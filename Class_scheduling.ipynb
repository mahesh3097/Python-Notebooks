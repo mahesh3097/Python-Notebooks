{
 "cells": [
  {
   "cell_type": "code",
   "execution_count": null,
   "metadata": {},
   "outputs": [],
   "source": []
  },
  {
   "cell_type": "code",
   "execution_count": 66,
   "metadata": {},
   "outputs": [],
   "source": [
    "import pandas as pd\n",
    "from datetime import datetime"
   ]
  },
  {
   "cell_type": "code",
   "execution_count": 21,
   "metadata": {},
   "outputs": [],
   "source": [
    "classes = pd.DataFrame()\n",
    "'''site = 'https://ischool.syr.edu/classes/?page=1'\n",
    "Data = Data.append(pd.read_html(site))\n",
    "site = 'https://ischool.syr.edu/classes/?page=2'\n",
    "Data = Data.append(pd.read_html(site))\n",
    "'''\n",
    "for n in range(0,7):\n",
    "    site = 'https://ischool.syr.edu/classes/?page=' + str(n)\n",
    "    Data = pd.read_html(site)\n",
    "    classes = classes.append(Data[0])\n",
    "    "
   ]
  },
  {
   "cell_type": "code",
   "execution_count": 22,
   "metadata": {},
   "outputs": [
    {
     "data": {
      "text/html": [
       "<div>\n",
       "<style scoped>\n",
       "    .dataframe tbody tr th:only-of-type {\n",
       "        vertical-align: middle;\n",
       "    }\n",
       "\n",
       "    .dataframe tbody tr th {\n",
       "        vertical-align: top;\n",
       "    }\n",
       "\n",
       "    .dataframe thead th {\n",
       "        text-align: right;\n",
       "    }\n",
       "</style>\n",
       "<table border=\"1\" class=\"dataframe\">\n",
       "  <thead>\n",
       "    <tr style=\"text-align: right;\">\n",
       "      <th></th>\n",
       "      <th>Course</th>\n",
       "      <th>Section</th>\n",
       "      <th>Class</th>\n",
       "      <th>Credits</th>\n",
       "      <th>Title</th>\n",
       "      <th>Instructor(s)</th>\n",
       "      <th>Time</th>\n",
       "      <th>Day</th>\n",
       "      <th>Room(s)</th>\n",
       "    </tr>\n",
       "  </thead>\n",
       "  <tbody>\n",
       "    <tr>\n",
       "      <th>45</th>\n",
       "      <td>IST800</td>\n",
       "      <td>M001</td>\n",
       "      <td>37515</td>\n",
       "      <td>3.0</td>\n",
       "      <td>Design Meth. for Info Studies</td>\n",
       "      <td>Rachel Ivy Clarke</td>\n",
       "      <td>9:30am - 12:15pm</td>\n",
       "      <td>W</td>\n",
       "      <td>Hinds Hall 120</td>\n",
       "    </tr>\n",
       "    <tr>\n",
       "      <th>46</th>\n",
       "      <td>IST810</td>\n",
       "      <td>M001</td>\n",
       "      <td>37389</td>\n",
       "      <td>2.0</td>\n",
       "      <td>Practicum in Research</td>\n",
       "      <td>Steven B Sawyer</td>\n",
       "      <td>9:30am - 11:25am</td>\n",
       "      <td>Tu</td>\n",
       "      <td>Hinds Hall 120</td>\n",
       "    </tr>\n",
       "    <tr>\n",
       "      <th>47</th>\n",
       "      <td>IST810</td>\n",
       "      <td>M002</td>\n",
       "      <td>37509</td>\n",
       "      <td>2.0</td>\n",
       "      <td>Practicum in Research</td>\n",
       "      <td>Steven B Sawyer</td>\n",
       "      <td>9:30am - 11:25am</td>\n",
       "      <td>Tu</td>\n",
       "      <td>Hinds Hall 120</td>\n",
       "    </tr>\n",
       "    <tr>\n",
       "      <th>48</th>\n",
       "      <td>IST820</td>\n",
       "      <td>M001</td>\n",
       "      <td>41535</td>\n",
       "      <td>3.0</td>\n",
       "      <td>Seminar in Research Methods</td>\n",
       "      <td>Jeffrey M. Stanton</td>\n",
       "      <td>9:30am - 12:15pm</td>\n",
       "      <td>M</td>\n",
       "      <td>Hinds Hall 120</td>\n",
       "    </tr>\n",
       "    <tr>\n",
       "      <th>49</th>\n",
       "      <td>IST840</td>\n",
       "      <td>M001</td>\n",
       "      <td>37391</td>\n",
       "      <td>1.0</td>\n",
       "      <td>Practicum in Teaching</td>\n",
       "      <td>Steven B Sawyer</td>\n",
       "      <td>11:30am - 12:15pm</td>\n",
       "      <td>Tu</td>\n",
       "      <td>Hinds Hall 120</td>\n",
       "    </tr>\n",
       "  </tbody>\n",
       "</table>\n",
       "</div>"
      ],
      "text/plain": [
       "    Course Section  Class  Credits                          Title  \\\n",
       "45  IST800    M001  37515      3.0  Design Meth. for Info Studies   \n",
       "46  IST810    M001  37389      2.0          Practicum in Research   \n",
       "47  IST810    M002  37509      2.0          Practicum in Research   \n",
       "48  IST820    M001  41535      3.0    Seminar in Research Methods   \n",
       "49  IST840    M001  37391      1.0          Practicum in Teaching   \n",
       "\n",
       "         Instructor(s)               Time Day         Room(s)  \n",
       "45   Rachel Ivy Clarke   9:30am - 12:15pm   W  Hinds Hall 120  \n",
       "46     Steven B Sawyer   9:30am - 11:25am  Tu  Hinds Hall 120  \n",
       "47     Steven B Sawyer   9:30am - 11:25am  Tu  Hinds Hall 120  \n",
       "48  Jeffrey M. Stanton   9:30am - 12:15pm   M  Hinds Hall 120  \n",
       "49     Steven B Sawyer  11:30am - 12:15pm  Tu  Hinds Hall 120  "
      ]
     },
     "execution_count": 22,
     "metadata": {},
     "output_type": "execute_result"
    }
   ],
   "source": [
    "classes.tail()"
   ]
  },
  {
   "cell_type": "code",
   "execution_count": 23,
   "metadata": {},
   "outputs": [
    {
     "data": {
      "text/plain": [
       "(312, 9)"
      ]
     },
     "execution_count": 23,
     "metadata": {},
     "output_type": "execute_result"
    }
   ],
   "source": [
    "classes.shape"
   ]
  },
  {
   "cell_type": "code",
   "execution_count": 30,
   "metadata": {},
   "outputs": [],
   "source": [
    "test = classes"
   ]
  },
  {
   "cell_type": "code",
   "execution_count": 31,
   "metadata": {},
   "outputs": [
    {
     "data": {
      "text/plain": [
       "0    IST840\n",
       "1    IST971\n",
       "2    IST971\n",
       "3    IST971\n",
       "4    IST972\n",
       "Name: Course, dtype: object"
      ]
     },
     "execution_count": 31,
     "metadata": {},
     "output_type": "execute_result"
    }
   ],
   "source": [
    "test['Course'].head()"
   ]
  },
  {
   "cell_type": "code",
   "execution_count": 42,
   "metadata": {},
   "outputs": [
    {
     "data": {
      "text/html": [
       "<div>\n",
       "<style scoped>\n",
       "    .dataframe tbody tr th:only-of-type {\n",
       "        vertical-align: middle;\n",
       "    }\n",
       "\n",
       "    .dataframe tbody tr th {\n",
       "        vertical-align: top;\n",
       "    }\n",
       "\n",
       "    .dataframe thead th {\n",
       "        text-align: right;\n",
       "    }\n",
       "</style>\n",
       "<table border=\"1\" class=\"dataframe\">\n",
       "  <thead>\n",
       "    <tr style=\"text-align: right;\">\n",
       "      <th></th>\n",
       "      <th>Course</th>\n",
       "      <th>Section</th>\n",
       "      <th>Class</th>\n",
       "      <th>Credits</th>\n",
       "      <th>Title</th>\n",
       "      <th>Instructor(s)</th>\n",
       "      <th>Time</th>\n",
       "      <th>Day</th>\n",
       "      <th>Room(s)</th>\n",
       "      <th>Course number</th>\n",
       "    </tr>\n",
       "  </thead>\n",
       "  <tbody>\n",
       "    <tr>\n",
       "      <th>0</th>\n",
       "      <td>IST840</td>\n",
       "      <td>M002</td>\n",
       "      <td>37508</td>\n",
       "      <td>1.0</td>\n",
       "      <td>Practicum in Teaching</td>\n",
       "      <td>Steven B Sawyer</td>\n",
       "      <td>11:30am - 12:15pm</td>\n",
       "      <td>Tu</td>\n",
       "      <td>Hinds Hall 120</td>\n",
       "      <td>840</td>\n",
       "    </tr>\n",
       "    <tr>\n",
       "      <th>1</th>\n",
       "      <td>IST971</td>\n",
       "      <td>M400</td>\n",
       "      <td>42678</td>\n",
       "      <td>1.0</td>\n",
       "      <td>Internship in Info Studies</td>\n",
       "      <td>Susan Monica Bonzi</td>\n",
       "      <td>12:00am - 12:00am</td>\n",
       "      <td>NaN</td>\n",
       "      <td>Online</td>\n",
       "      <td>971</td>\n",
       "    </tr>\n",
       "    <tr>\n",
       "      <th>2</th>\n",
       "      <td>IST971</td>\n",
       "      <td>M401</td>\n",
       "      <td>42680</td>\n",
       "      <td>1.0</td>\n",
       "      <td>Internship in Info Studies</td>\n",
       "      <td>Susan Monica Bonzi</td>\n",
       "      <td>12:00am - 12:00am</td>\n",
       "      <td>NaN</td>\n",
       "      <td>Online</td>\n",
       "      <td>971</td>\n",
       "    </tr>\n",
       "    <tr>\n",
       "      <th>3</th>\n",
       "      <td>IST971</td>\n",
       "      <td>M402</td>\n",
       "      <td>42770</td>\n",
       "      <td>1.0</td>\n",
       "      <td>Internship in Info Studies</td>\n",
       "      <td>Susan Monica Bonzi</td>\n",
       "      <td>12:00am - 12:00am</td>\n",
       "      <td>NaN</td>\n",
       "      <td>NaN</td>\n",
       "      <td>971</td>\n",
       "    </tr>\n",
       "    <tr>\n",
       "      <th>4</th>\n",
       "      <td>IST972</td>\n",
       "      <td>M001</td>\n",
       "      <td>37396</td>\n",
       "      <td>3.0</td>\n",
       "      <td>School Media Practicum</td>\n",
       "      <td>Patricia C Vilello</td>\n",
       "      <td>12:00am - 12:00am</td>\n",
       "      <td>NaN</td>\n",
       "      <td>Online</td>\n",
       "      <td>972</td>\n",
       "    </tr>\n",
       "  </tbody>\n",
       "</table>\n",
       "</div>"
      ],
      "text/plain": [
       "   Course Section  Class  Credits                       Title  \\\n",
       "0  IST840    M002  37508      1.0       Practicum in Teaching   \n",
       "1  IST971    M400  42678      1.0  Internship in Info Studies   \n",
       "2  IST971    M401  42680      1.0  Internship in Info Studies   \n",
       "3  IST971    M402  42770      1.0  Internship in Info Studies   \n",
       "4  IST972    M001  37396      3.0      School Media Practicum   \n",
       "\n",
       "        Instructor(s)               Time  Day         Room(s) Course number  \n",
       "0     Steven B Sawyer  11:30am - 12:15pm   Tu  Hinds Hall 120           840  \n",
       "1  Susan Monica Bonzi  12:00am - 12:00am  NaN          Online           971  \n",
       "2  Susan Monica Bonzi  12:00am - 12:00am  NaN          Online           971  \n",
       "3  Susan Monica Bonzi  12:00am - 12:00am  NaN             NaN           971  \n",
       "4  Patricia C Vilello  12:00am - 12:00am  NaN          Online           972  "
      ]
     },
     "execution_count": 42,
     "metadata": {},
     "output_type": "execute_result"
    }
   ],
   "source": [
    "test['Course'].str[3:]\n",
    "#new column \n",
    "test['Course number'] = test['Course'].str[3:]\n",
    "test.head()"
   ]
  },
  {
   "cell_type": "code",
   "execution_count": 45,
   "metadata": {},
   "outputs": [
    {
     "ename": "TypeError",
     "evalue": "'>=' not supported between instances of 'str' and 'int'",
     "output_type": "error",
     "traceback": [
      "\u001b[0;31m---------------------------------------------------------------------------\u001b[0m",
      "\u001b[0;31mTypeError\u001b[0m                                 Traceback (most recent call last)",
      "\u001b[0;32m<ipython-input-45-820df564eb81>\u001b[0m in \u001b[0;36m<module>\u001b[0;34m\u001b[0m\n\u001b[1;32m      1\u001b[0m \u001b[0;31m# course number > = 500 will be grad and rest Undergrad\u001b[0m\u001b[0;34m\u001b[0m\u001b[0;34m\u001b[0m\u001b[0;34m\u001b[0m\u001b[0m\n\u001b[1;32m      2\u001b[0m \u001b[0mtest\u001b[0m\u001b[0;34m[\u001b[0m\u001b[0;34m'Type'\u001b[0m\u001b[0;34m]\u001b[0m \u001b[0;34m=\u001b[0m \u001b[0;34m'NAN'\u001b[0m\u001b[0;34m\u001b[0m\u001b[0;34m\u001b[0m\u001b[0m\n\u001b[0;32m----> 3\u001b[0;31m \u001b[0mtest\u001b[0m\u001b[0;34m[\u001b[0m\u001b[0;34m'Type'\u001b[0m\u001b[0;34m]\u001b[0m\u001b[0;34m[\u001b[0m\u001b[0mtest\u001b[0m\u001b[0;34m[\u001b[0m\u001b[0;34m'Course number'\u001b[0m\u001b[0;34m]\u001b[0m \u001b[0;34m>=\u001b[0m \u001b[0;36m500\u001b[0m\u001b[0;34m]\u001b[0m \u001b[0;34m=\u001b[0m \u001b[0;34m'G'\u001b[0m\u001b[0;34m\u001b[0m\u001b[0;34m\u001b[0m\u001b[0m\n\u001b[0m",
      "\u001b[0;32m~/anaconda3/lib/python3.7/site-packages/pandas/core/ops.py\u001b[0m in \u001b[0;36mwrapper\u001b[0;34m(self, other, axis)\u001b[0m\n\u001b[1;32m   1281\u001b[0m \u001b[0;34m\u001b[0m\u001b[0m\n\u001b[1;32m   1282\u001b[0m             \u001b[0;32mwith\u001b[0m \u001b[0mnp\u001b[0m\u001b[0;34m.\u001b[0m\u001b[0merrstate\u001b[0m\u001b[0;34m(\u001b[0m\u001b[0mall\u001b[0m\u001b[0;34m=\u001b[0m\u001b[0;34m'ignore'\u001b[0m\u001b[0;34m)\u001b[0m\u001b[0;34m:\u001b[0m\u001b[0;34m\u001b[0m\u001b[0;34m\u001b[0m\u001b[0m\n\u001b[0;32m-> 1283\u001b[0;31m                 \u001b[0mres\u001b[0m \u001b[0;34m=\u001b[0m \u001b[0mna_op\u001b[0m\u001b[0;34m(\u001b[0m\u001b[0mvalues\u001b[0m\u001b[0;34m,\u001b[0m \u001b[0mother\u001b[0m\u001b[0;34m)\u001b[0m\u001b[0;34m\u001b[0m\u001b[0;34m\u001b[0m\u001b[0m\n\u001b[0m\u001b[1;32m   1284\u001b[0m             \u001b[0;32mif\u001b[0m \u001b[0mis_scalar\u001b[0m\u001b[0;34m(\u001b[0m\u001b[0mres\u001b[0m\u001b[0;34m)\u001b[0m\u001b[0;34m:\u001b[0m\u001b[0;34m\u001b[0m\u001b[0;34m\u001b[0m\u001b[0m\n\u001b[1;32m   1285\u001b[0m                 raise TypeError('Could not compare {typ} type with Series'\n",
      "\u001b[0;32m~/anaconda3/lib/python3.7/site-packages/pandas/core/ops.py\u001b[0m in \u001b[0;36mna_op\u001b[0;34m(x, y)\u001b[0m\n\u001b[1;32m   1141\u001b[0m \u001b[0;34m\u001b[0m\u001b[0m\n\u001b[1;32m   1142\u001b[0m         \u001b[0;32melif\u001b[0m \u001b[0mis_object_dtype\u001b[0m\u001b[0;34m(\u001b[0m\u001b[0mx\u001b[0m\u001b[0;34m.\u001b[0m\u001b[0mdtype\u001b[0m\u001b[0;34m)\u001b[0m\u001b[0;34m:\u001b[0m\u001b[0;34m\u001b[0m\u001b[0;34m\u001b[0m\u001b[0m\n\u001b[0;32m-> 1143\u001b[0;31m             \u001b[0mresult\u001b[0m \u001b[0;34m=\u001b[0m \u001b[0m_comp_method_OBJECT_ARRAY\u001b[0m\u001b[0;34m(\u001b[0m\u001b[0mop\u001b[0m\u001b[0;34m,\u001b[0m \u001b[0mx\u001b[0m\u001b[0;34m,\u001b[0m \u001b[0my\u001b[0m\u001b[0;34m)\u001b[0m\u001b[0;34m\u001b[0m\u001b[0;34m\u001b[0m\u001b[0m\n\u001b[0m\u001b[1;32m   1144\u001b[0m \u001b[0;34m\u001b[0m\u001b[0m\n\u001b[1;32m   1145\u001b[0m         \u001b[0;32melif\u001b[0m \u001b[0mis_datetimelike_v_numeric\u001b[0m\u001b[0;34m(\u001b[0m\u001b[0mx\u001b[0m\u001b[0;34m,\u001b[0m \u001b[0my\u001b[0m\u001b[0;34m)\u001b[0m\u001b[0;34m:\u001b[0m\u001b[0;34m\u001b[0m\u001b[0;34m\u001b[0m\u001b[0m\n",
      "\u001b[0;32m~/anaconda3/lib/python3.7/site-packages/pandas/core/ops.py\u001b[0m in \u001b[0;36m_comp_method_OBJECT_ARRAY\u001b[0;34m(op, x, y)\u001b[0m\n\u001b[1;32m   1120\u001b[0m         \u001b[0mresult\u001b[0m \u001b[0;34m=\u001b[0m \u001b[0mlibops\u001b[0m\u001b[0;34m.\u001b[0m\u001b[0mvec_compare\u001b[0m\u001b[0;34m(\u001b[0m\u001b[0mx\u001b[0m\u001b[0;34m,\u001b[0m \u001b[0my\u001b[0m\u001b[0;34m,\u001b[0m \u001b[0mop\u001b[0m\u001b[0;34m)\u001b[0m\u001b[0;34m\u001b[0m\u001b[0;34m\u001b[0m\u001b[0m\n\u001b[1;32m   1121\u001b[0m     \u001b[0;32melse\u001b[0m\u001b[0;34m:\u001b[0m\u001b[0;34m\u001b[0m\u001b[0;34m\u001b[0m\u001b[0m\n\u001b[0;32m-> 1122\u001b[0;31m         \u001b[0mresult\u001b[0m \u001b[0;34m=\u001b[0m \u001b[0mlibops\u001b[0m\u001b[0;34m.\u001b[0m\u001b[0mscalar_compare\u001b[0m\u001b[0;34m(\u001b[0m\u001b[0mx\u001b[0m\u001b[0;34m,\u001b[0m \u001b[0my\u001b[0m\u001b[0;34m,\u001b[0m \u001b[0mop\u001b[0m\u001b[0;34m)\u001b[0m\u001b[0;34m\u001b[0m\u001b[0;34m\u001b[0m\u001b[0m\n\u001b[0m\u001b[1;32m   1123\u001b[0m     \u001b[0;32mreturn\u001b[0m \u001b[0mresult\u001b[0m\u001b[0;34m\u001b[0m\u001b[0;34m\u001b[0m\u001b[0m\n\u001b[1;32m   1124\u001b[0m \u001b[0;34m\u001b[0m\u001b[0m\n",
      "\u001b[0;32mpandas/_libs/ops.pyx\u001b[0m in \u001b[0;36mpandas._libs.ops.scalar_compare\u001b[0;34m()\u001b[0m\n",
      "\u001b[0;31mTypeError\u001b[0m: '>=' not supported between instances of 'str' and 'int'"
     ]
    }
   ],
   "source": [
    "# course number > = 500 will be grad and rest Undergrad\n",
    "test['Type'] = 'NAN'\n",
    "test['Type'][test['Course number'] >= 500] = 'G'"
   ]
  },
  {
   "cell_type": "code",
   "execution_count": 46,
   "metadata": {},
   "outputs": [
    {
     "name": "stderr",
     "output_type": "stream",
     "text": [
      "/Users/mahbn/anaconda3/lib/python3.7/site-packages/ipykernel_launcher.py:1: SettingWithCopyWarning: \n",
      "A value is trying to be set on a copy of a slice from a DataFrame\n",
      "\n",
      "See the caveats in the documentation: http://pandas.pydata.org/pandas-docs/stable/indexing.html#indexing-view-versus-copy\n",
      "  \"\"\"Entry point for launching an IPython kernel.\n"
     ]
    }
   ],
   "source": [
    "test['Type'][test['Course number'].astype(int) >= 500] = 'G'"
   ]
  },
  {
   "cell_type": "code",
   "execution_count": 57,
   "metadata": {},
   "outputs": [],
   "source": [
    "#to avoid settingwith copy use loc method \n",
    "# link for understanding SettingWithCopy ----> https://www.dataquest.io/blog/settingwithcopywarning/\n",
    "test.loc[test['Course number'].astype(int) >= 500 , 'Type'] = 'Grad'\n",
    "test.loc[test['Course number'].astype(int) < 500 , 'Type'] = 'UnderGrad'"
   ]
  },
  {
   "cell_type": "code",
   "execution_count": 58,
   "metadata": {},
   "outputs": [
    {
     "data": {
      "text/html": [
       "<div>\n",
       "<style scoped>\n",
       "    .dataframe tbody tr th:only-of-type {\n",
       "        vertical-align: middle;\n",
       "    }\n",
       "\n",
       "    .dataframe tbody tr th {\n",
       "        vertical-align: top;\n",
       "    }\n",
       "\n",
       "    .dataframe thead th {\n",
       "        text-align: right;\n",
       "    }\n",
       "</style>\n",
       "<table border=\"1\" class=\"dataframe\">\n",
       "  <thead>\n",
       "    <tr style=\"text-align: right;\">\n",
       "      <th></th>\n",
       "      <th>Course</th>\n",
       "      <th>Section</th>\n",
       "      <th>Class</th>\n",
       "      <th>Credits</th>\n",
       "      <th>Title</th>\n",
       "      <th>Instructor(s)</th>\n",
       "      <th>Time</th>\n",
       "      <th>Day</th>\n",
       "      <th>Room(s)</th>\n",
       "      <th>Course number</th>\n",
       "      <th>Type</th>\n",
       "    </tr>\n",
       "  </thead>\n",
       "  <tbody>\n",
       "    <tr>\n",
       "      <th>16</th>\n",
       "      <td>IST195</td>\n",
       "      <td>M003</td>\n",
       "      <td>37443</td>\n",
       "      <td>3.0</td>\n",
       "      <td>LAB: Information Technologies</td>\n",
       "      <td>Jeff Rubin</td>\n",
       "      <td>9:30am - 10:25am</td>\n",
       "      <td>F</td>\n",
       "      <td>Hinds Hall 010</td>\n",
       "      <td>195</td>\n",
       "      <td>UnderGrad</td>\n",
       "    </tr>\n",
       "    <tr>\n",
       "      <th>11</th>\n",
       "      <td>IST659</td>\n",
       "      <td>M410</td>\n",
       "      <td>37650</td>\n",
       "      <td>3.0</td>\n",
       "      <td>Data Admin Concepts &amp; Db Mgmt</td>\n",
       "      <td>Dale Thompson</td>\n",
       "      <td>12:00am - 8:30pm</td>\n",
       "      <td>Tu</td>\n",
       "      <td>Online  Online</td>\n",
       "      <td>659</td>\n",
       "      <td>Grad</td>\n",
       "    </tr>\n",
       "    <tr>\n",
       "      <th>49</th>\n",
       "      <td>IST336</td>\n",
       "      <td>M001</td>\n",
       "      <td>41506</td>\n",
       "      <td>3.0</td>\n",
       "      <td>Leading Issues in Info Securit</td>\n",
       "      <td>Joon S. Park</td>\n",
       "      <td>3:45pm - 5:05pm</td>\n",
       "      <td>MW</td>\n",
       "      <td>Hinds Hall 117</td>\n",
       "      <td>336</td>\n",
       "      <td>UnderGrad</td>\n",
       "    </tr>\n",
       "    <tr>\n",
       "      <th>33</th>\n",
       "      <td>IST645</td>\n",
       "      <td>M001</td>\n",
       "      <td>37406</td>\n",
       "      <td>3.0</td>\n",
       "      <td>Managing Info Systems Projects</td>\n",
       "      <td>Arthur P. Thomas</td>\n",
       "      <td>5:00pm - 7:50pm</td>\n",
       "      <td>Tu</td>\n",
       "      <td>Hinds Hall 021</td>\n",
       "      <td>645</td>\n",
       "      <td>Grad</td>\n",
       "    </tr>\n",
       "  </tbody>\n",
       "</table>\n",
       "</div>"
      ],
      "text/plain": [
       "    Course Section  Class  Credits                           Title  \\\n",
       "16  IST195    M003  37443      3.0   LAB: Information Technologies   \n",
       "11  IST659    M410  37650      3.0   Data Admin Concepts & Db Mgmt   \n",
       "49  IST336    M001  41506      3.0  Leading Issues in Info Securit   \n",
       "33  IST645    M001  37406      3.0  Managing Info Systems Projects   \n",
       "\n",
       "       Instructor(s)              Time Day         Room(s) Course number  \\\n",
       "16        Jeff Rubin  9:30am - 10:25am   F  Hinds Hall 010           195   \n",
       "11     Dale Thompson  12:00am - 8:30pm  Tu  Online  Online           659   \n",
       "49      Joon S. Park   3:45pm - 5:05pm  MW  Hinds Hall 117           336   \n",
       "33  Arthur P. Thomas   5:00pm - 7:50pm  Tu  Hinds Hall 021           645   \n",
       "\n",
       "         Type  \n",
       "16  UnderGrad  \n",
       "11       Grad  \n",
       "49  UnderGrad  \n",
       "33       Grad  "
      ]
     },
     "execution_count": 58,
     "metadata": {},
     "output_type": "execute_result"
    }
   ],
   "source": [
    "test.sample(4)"
   ]
  },
  {
   "cell_type": "code",
   "execution_count": 65,
   "metadata": {},
   "outputs": [
    {
     "data": {
      "text/html": [
       "<div>\n",
       "<style scoped>\n",
       "    .dataframe tbody tr th:only-of-type {\n",
       "        vertical-align: middle;\n",
       "    }\n",
       "\n",
       "    .dataframe tbody tr th {\n",
       "        vertical-align: top;\n",
       "    }\n",
       "\n",
       "    .dataframe thead th {\n",
       "        text-align: right;\n",
       "    }\n",
       "</style>\n",
       "<table border=\"1\" class=\"dataframe\">\n",
       "  <thead>\n",
       "    <tr style=\"text-align: right;\">\n",
       "      <th></th>\n",
       "      <th>Course</th>\n",
       "      <th>Section</th>\n",
       "      <th>Class</th>\n",
       "      <th>Credits</th>\n",
       "      <th>Title</th>\n",
       "      <th>Instructor(s)</th>\n",
       "      <th>Time</th>\n",
       "      <th>Day</th>\n",
       "      <th>Room(s)</th>\n",
       "      <th>Course number</th>\n",
       "      <th>Type</th>\n",
       "    </tr>\n",
       "  </thead>\n",
       "  <tbody>\n",
       "    <tr>\n",
       "      <th>0</th>\n",
       "      <td>IST840</td>\n",
       "      <td>M002</td>\n",
       "      <td>37508</td>\n",
       "      <td>1.0</td>\n",
       "      <td>Practicum in Teaching</td>\n",
       "      <td>Steven B Sawyer</td>\n",
       "      <td>11:30am - 12:15pm</td>\n",
       "      <td>Tu</td>\n",
       "      <td>Hinds Hall 120</td>\n",
       "      <td>840</td>\n",
       "      <td>Grad</td>\n",
       "    </tr>\n",
       "    <tr>\n",
       "      <th>3</th>\n",
       "      <td>GET602</td>\n",
       "      <td>M001</td>\n",
       "      <td>37464</td>\n",
       "      <td>3.0</td>\n",
       "      <td>Global Financial Sys Arch</td>\n",
       "      <td>vcschoon</td>\n",
       "      <td>5:00pm - 7:45pm</td>\n",
       "      <td>Tu</td>\n",
       "      <td>Hinds Hall 011</td>\n",
       "      <td>602</td>\n",
       "      <td>Grad</td>\n",
       "    </tr>\n",
       "    <tr>\n",
       "      <th>7</th>\n",
       "      <td>IST511</td>\n",
       "      <td>M401</td>\n",
       "      <td>37527</td>\n",
       "      <td>3.0</td>\n",
       "      <td>Intro to Library &amp; Info Prof</td>\n",
       "      <td>Meghan Bremiller</td>\n",
       "      <td>12:00am - 8:30pm</td>\n",
       "      <td>Tu</td>\n",
       "      <td>Online  Online</td>\n",
       "      <td>511</td>\n",
       "      <td>Grad</td>\n",
       "    </tr>\n",
       "    <tr>\n",
       "      <th>10</th>\n",
       "      <td>IST511</td>\n",
       "      <td>M403</td>\n",
       "      <td>37584</td>\n",
       "      <td>3.0</td>\n",
       "      <td>Intro to Library &amp; Info Prof</td>\n",
       "      <td>Meghan Bremiller</td>\n",
       "      <td>12:00am - 8:30pm</td>\n",
       "      <td>Tu</td>\n",
       "      <td>Online  Online</td>\n",
       "      <td>511</td>\n",
       "      <td>Grad</td>\n",
       "    </tr>\n",
       "    <tr>\n",
       "      <th>14</th>\n",
       "      <td>IST523</td>\n",
       "      <td>M002</td>\n",
       "      <td>37474</td>\n",
       "      <td>3.0</td>\n",
       "      <td>Graphic Design for the Web</td>\n",
       "      <td>Jeffrey Alan Passetti</td>\n",
       "      <td>5:00pm - 7:50pm</td>\n",
       "      <td>Tu</td>\n",
       "      <td>Hinds Hall 117</td>\n",
       "      <td>523</td>\n",
       "      <td>Grad</td>\n",
       "    </tr>\n",
       "  </tbody>\n",
       "</table>\n",
       "</div>"
      ],
      "text/plain": [
       "    Course Section  Class  Credits                         Title  \\\n",
       "0   IST840    M002  37508      1.0         Practicum in Teaching   \n",
       "3   GET602    M001  37464      3.0     Global Financial Sys Arch   \n",
       "7   IST511    M401  37527      3.0  Intro to Library & Info Prof   \n",
       "10  IST511    M403  37584      3.0  Intro to Library & Info Prof   \n",
       "14  IST523    M002  37474      3.0    Graphic Design for the Web   \n",
       "\n",
       "            Instructor(s)               Time Day         Room(s)  \\\n",
       "0         Steven B Sawyer  11:30am - 12:15pm  Tu  Hinds Hall 120   \n",
       "3                vcschoon    5:00pm - 7:45pm  Tu  Hinds Hall 011   \n",
       "7        Meghan Bremiller   12:00am - 8:30pm  Tu  Online  Online   \n",
       "10       Meghan Bremiller   12:00am - 8:30pm  Tu  Online  Online   \n",
       "14  Jeffrey Alan Passetti    5:00pm - 7:50pm  Tu  Hinds Hall 117   \n",
       "\n",
       "   Course number  Type  \n",
       "0            840  Grad  \n",
       "3            602  Grad  \n",
       "7            511  Grad  \n",
       "10           511  Grad  \n",
       "14           523  Grad  "
      ]
     },
     "execution_count": 65,
     "metadata": {},
     "output_type": "execute_result"
    }
   ],
   "source": [
    "# filter only grad courses that are on tuesday \n",
    "grad =  test[test['Type']=='Grad']\n",
    "grad_tue = grad[grad['Day'].str.find(\"Tu\") >= 0]\n",
    "grad_tue.head()\n",
    "             "
   ]
  },
  {
   "cell_type": "code",
   "execution_count": 71,
   "metadata": {},
   "outputs": [
    {
     "name": "stdout",
     "output_type": "stream",
     "text": [
      "0:00:20.377858\n"
     ]
    }
   ],
   "source": [
    "# tim e to read these web pages \n",
    "classes = pd.DataFrame()\n",
    "\n",
    "start = datetime.now()\n",
    "\n",
    "for n in range(0,7):\n",
    "    site = 'https://ischool.syr.edu/classes/?page=' + str(n)\n",
    "    Data = pd.read_html(site)\n",
    "    classes = classes.append(Data[0])\n",
    "print(datetime.now() - start )   "
   ]
  },
  {
   "cell_type": "code",
   "execution_count": 68,
   "metadata": {},
   "outputs": [],
   "source": [
    "# now multiprocessing\n",
    "from multiprocessing import Pool\n",
    "from multiprocessing.dummy import Pool as ThreadPool"
   ]
  },
  {
   "cell_type": "code",
   "execution_count": 75,
   "metadata": {},
   "outputs": [
    {
     "name": "stdout",
     "output_type": "stream",
     "text": [
      "0:00:04.120881\n"
     ]
    }
   ],
   "source": [
    "pool = ThreadPool()\n",
    "site= []\n",
    "start = datetime.now()\n",
    "\n",
    "for n in range(0,7):\n",
    "    site.append('https://ischool.syr.edu/classes/?page=' + str(n))\n",
    "Data = pool.map(pd.read_html,site)\n",
    "pool.close()\n",
    "pool.join()\n",
    "print(datetime.now() - start )   "
   ]
  },
  {
   "cell_type": "code",
   "execution_count": null,
   "metadata": {},
   "outputs": [],
   "source": []
  }
 ],
 "metadata": {
  "kernelspec": {
   "display_name": "Python 3",
   "language": "python",
   "name": "python3"
  },
  "language_info": {
   "codemirror_mode": {
    "name": "ipython",
    "version": 3
   },
   "file_extension": ".py",
   "mimetype": "text/x-python",
   "name": "python",
   "nbconvert_exporter": "python",
   "pygments_lexer": "ipython3",
   "version": "3.7.1"
  }
 },
 "nbformat": 4,
 "nbformat_minor": 2
}
